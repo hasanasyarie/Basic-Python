{
  "nbformat": 4,
  "nbformat_minor": 0,
  "metadata": {
    "colab": {
      "provenance": [],
      "toc_visible": true,
      "authorship_tag": "ABX9TyN6LThBLJIFr0Ngqbi5VwXr",
      "include_colab_link": true
    },
    "kernelspec": {
      "name": "python3",
      "display_name": "Python 3"
    },
    "language_info": {
      "name": "python"
    }
  },
  "cells": [
    {
      "cell_type": "markdown",
      "metadata": {
        "id": "view-in-github",
        "colab_type": "text"
      },
      "source": [
        "<a href=\"https://colab.research.google.com/github/hasanasyarie/Basic-Python/blob/main/5_Struktur_Data_Dictionary.ipynb\" target=\"_parent\"><img src=\"https://colab.research.google.com/assets/colab-badge.svg\" alt=\"Open In Colab\"/></a>"
      ]
    },
    {
      "cell_type": "markdown",
      "source": [
        "###Dictionary"
      ],
      "metadata": {
        "id": "ANDLf4AWVLlB"
      }
    },
    {
      "cell_type": "markdown",
      "source": [
        "Dictionary adalah sekumpulan pasangan key and value yang bersifat tidak berurutan. Pada python, dictionary dituliskan dengan kurung kurawal {} dan dipisahkan oleh koma. Setiap key and value dipisahkan dengan titik dua (:) seperti nama_variabel = {key : value}"
      ],
      "metadata": {
        "id": "P1plwEqNb-aQ"
      }
    },
    {
      "cell_type": "code",
      "source": [
        "#Contoh 1\n",
        "dicti = {'nama' : 'hasan', 'jurusan' : 'matematika'}\n",
        "print(dicti)"
      ],
      "metadata": {
        "id": "LgIYx-hS-dWL"
      },
      "execution_count": null,
      "outputs": []
    },
    {
      "cell_type": "code",
      "source": [
        "#Contoh 2\n",
        "dictio = {1:'Hasan Asy Arie', 2:'Matematika', 3:'UAD'}\n",
        "print(dictio)"
      ],
      "metadata": {
        "id": "GUxHq4yM_ap-"
      },
      "execution_count": null,
      "outputs": []
    },
    {
      "cell_type": "code",
      "source": [
        "dictioi = {1:'Hasan Asy Arie', 2:'Matematika', 3:'UAD'}\n",
        "print(dictioi)"
      ],
      "metadata": {
        "id": "rjRle7_wWarW"
      },
      "execution_count": null,
      "outputs": []
    },
    {
      "cell_type": "markdown",
      "source": [
        "Key dalam tipe data dictionary bersifat unik artinya tidak boleh ada 2 atau lebih key dalam satu dictionary"
      ],
      "metadata": {
        "id": "9ypJPgSj_z4B"
      }
    },
    {
      "cell_type": "code",
      "source": [
        "diction = {1:'Hasan Asy Arie', 2:'Matematika', 2:'UAD', 1:'Hasan'}\n",
        "print(diction)"
      ],
      "metadata": {
        "id": "_huaCweSADIO"
      },
      "execution_count": null,
      "outputs": []
    },
    {
      "cell_type": "markdown",
      "source": [
        "####Cara Mengakses Dictionary"
      ],
      "metadata": {
        "id": "ipvAMz59B59e"
      }
    },
    {
      "cell_type": "markdown",
      "source": [
        "Tipe data dictionary bersifat tidak berurut, karena itu dictionary tidak bisa diakses menggunakan proses slicing menggunakan index. Tapi, dictionary dapat diakses dengan menggunakan key atau menggunakan fungsi get(). </br>\n",
        "Terdapat perbedaan ketika kita mengakses menggunakan key dan fungsi get(). Jika menggunakan key maka output akan menghasilkan eror ketika key yang kita akses tidak berada pada dictionary, sedangkan menggunakan fungsi get() tidak akan menghasilkan output error tetapi akan menghasilkan output 'None'."
      ],
      "metadata": {
        "id": "nozMHvJFAqBt"
      }
    },
    {
      "cell_type": "code",
      "source": [
        "#mengakses menggunakan key\n",
        "print(dictio[1])\n",
        "\n",
        "#mengakses menggunakan fungsi get()\n",
        "print(dictio.get(1))"
      ],
      "metadata": {
        "id": "3XJ8vjPECLcy"
      },
      "execution_count": null,
      "outputs": []
    },
    {
      "cell_type": "markdown",
      "source": [
        "Jika key yang dipanggil tidak berada pada dictionary maka akan menghasilkan error"
      ],
      "metadata": {
        "id": "_puh3GiFDJpP"
      }
    },
    {
      "cell_type": "code",
      "source": [
        "print(dictio[5])"
      ],
      "metadata": {
        "id": "FBHmqurgDRjj"
      },
      "execution_count": null,
      "outputs": []
    },
    {
      "cell_type": "code",
      "source": [
        "print(dictio.get(5))"
      ],
      "metadata": {
        "id": "JqbIg-qlDV-o"
      },
      "execution_count": null,
      "outputs": []
    },
    {
      "cell_type": "markdown",
      "source": [
        "####Mengubah elemen tipe data"
      ],
      "metadata": {
        "id": "EvHImRAYDxeZ"
      }
    },
    {
      "cell_type": "markdown",
      "source": [
        "Dictionary bersifat mutable, artinya dapat kita tambahkan maupun kita kurangi. </br>\n",
        "Jika key dari elemen yang ingin kita ubah itu ada, maka nilai nya akan diupdate. Namun jika tidak ada, maka akan menambahkan pasangan key dan value baru."
      ],
      "metadata": {
        "id": "g4Lb1ydrD9E4"
      }
    },
    {
      "cell_type": "code",
      "source": [
        "#contoh\n",
        "data_dic = {'Nama':'Hasan', 'Jurusan':'Matematika', 'Kampus':'UAD'}\n",
        "print(data_dic)"
      ],
      "metadata": {
        "id": "TtlmI-1FEuuG"
      },
      "execution_count": null,
      "outputs": []
    },
    {
      "cell_type": "code",
      "source": [
        "#mengubah nilai dari key yang ada\n",
        "data_dic['Nama']='Hasan Asy Arie'\n",
        "print(data_dic)"
      ],
      "metadata": {
        "id": "7XFpAcxDFB8-"
      },
      "execution_count": null,
      "outputs": []
    },
    {
      "cell_type": "code",
      "source": [
        "#menambahkan key and value baru\n",
        "data_dic['IPK'] = 3.99\n",
        "print(data_dic)"
      ],
      "metadata": {
        "id": "rz11h2L0Ffw6"
      },
      "execution_count": null,
      "outputs": []
    },
    {
      "cell_type": "markdown",
      "source": [
        "####Menghapus elemen"
      ],
      "metadata": {
        "id": "polr5tsvIiwi"
      }
    },
    {
      "cell_type": "code",
      "source": [
        "hapus_dict = {'Nama':'Hasan', 'Jurusan':'Matematika', 'Kampus':'UAD'}\n",
        "print(hapus_dict)"
      ],
      "metadata": {
        "id": "xKW8UTRDIpCN"
      },
      "execution_count": null,
      "outputs": []
    },
    {
      "cell_type": "code",
      "source": [
        "#menggunakan del\n",
        "del hapus_dict['Nama']\n",
        "print(hapus_dict)"
      ],
      "metadata": {
        "id": "XXCz_XofJcsk"
      },
      "execution_count": null,
      "outputs": []
    },
    {
      "cell_type": "code",
      "source": [
        "#menggunakan pop()\n",
        "hapus_dict.pop('Jurusan')\n",
        "print(hapus_dict)"
      ],
      "metadata": {
        "id": "Tfda92jBKNsi"
      },
      "execution_count": null,
      "outputs": []
    },
    {
      "cell_type": "code",
      "source": [
        "#menghapus secara acak\n",
        "hapus_dict1 = {1:'satu', 2:'dua', 3:'tiga', 4:'empat', 5:'lima'}\n",
        "print(hapus_dict1)\n",
        "\n",
        "hapus_dict1.popitem()\n",
        "print(hapus_dict1)"
      ],
      "metadata": {
        "id": "fT0so92lKjvI"
      },
      "execution_count": null,
      "outputs": []
    }
  ]
}