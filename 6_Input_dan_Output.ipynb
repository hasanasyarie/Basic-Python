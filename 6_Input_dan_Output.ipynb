{
  "nbformat": 4,
  "nbformat_minor": 0,
  "metadata": {
    "colab": {
      "provenance": [],
      "toc_visible": true,
      "authorship_tag": "ABX9TyNS5VvWeUDNYV3xR+B3IYWD",
      "include_colab_link": true
    },
    "kernelspec": {
      "name": "python3",
      "display_name": "Python 3"
    },
    "language_info": {
      "name": "python"
    }
  },
  "cells": [
    {
      "cell_type": "markdown",
      "metadata": {
        "id": "view-in-github",
        "colab_type": "text"
      },
      "source": [
        "<a href=\"https://colab.research.google.com/github/hasanasyarie/Basic-Python/blob/main/6_Input_dan_Output.ipynb\" target=\"_parent\"><img src=\"https://colab.research.google.com/assets/colab-badge.svg\" alt=\"Open In Colab\"/></a>"
      ]
    },
    {
      "cell_type": "markdown",
      "source": [
        "##**Input dan Output**"
      ],
      "metadata": {
        "id": "cL_DS6UNEg-h"
      }
    },
    {
      "cell_type": "markdown",
      "source": [
        "Input adalah sebuah program masukan yang bisa kita buat dan kita olah sesuai dengan tipe data yang kita inginkan. Sedangkan output adalah hasil keluaran dari input yang kita buat. Untuk membuat sebuah input kita cukup menuliskan perintah input() dan untuk membuat output cukup menuliskan fungsi print()."
      ],
      "metadata": {
        "id": "KIZ2jP3ZEnXU"
      }
    },
    {
      "cell_type": "markdown",
      "source": [
        "###**Memahami Input**"
      ],
      "metadata": {
        "id": "xVxUFQAOHOhM"
      }
    },
    {
      "cell_type": "code",
      "source": [
        "#Membuat input\n",
        "coba1 = input()"
      ],
      "metadata": {
        "id": "mC55cK-nFM4e",
        "colab": {
          "base_uri": "https://localhost:8080/"
        },
        "outputId": "d55f9f01-a107-4dcd-c3ad-112f6f4e9a10"
      },
      "execution_count": null,
      "outputs": [
        {
          "name": "stdout",
          "output_type": "stream",
          "text": [
            "14\n"
          ]
        }
      ]
    },
    {
      "cell_type": "markdown",
      "source": [
        "Kita juga dapat menambahkan sebuah kalimat untuk mempercantik dan memperjelas perintah input"
      ],
      "metadata": {
        "id": "eV4J4qT7F0HD"
      }
    },
    {
      "cell_type": "code",
      "source": [
        "coba2 = input('Masukan nilai: ')"
      ],
      "metadata": {
        "id": "hb5d3zvbFxDy",
        "colab": {
          "base_uri": "https://localhost:8080/"
        },
        "outputId": "a11a911b-67ba-459f-a1ba-a7b68b6e11d7"
      },
      "execution_count": null,
      "outputs": [
        {
          "name": "stdout",
          "output_type": "stream",
          "text": [
            "Masukan nilai: 14\n"
          ]
        }
      ]
    },
    {
      "cell_type": "markdown",
      "source": [
        "Secara default, fungsi input() akan menghasilkan nilai bertipe data string. Jika kita ingin membuat input dengan tipe data yang lain cukup dengan menambahkan tipe data yang kita inginkan sebelum menuliskan fungsi input()."
      ],
      "metadata": {
        "id": "bjBKPG2ZeCRh"
      }
    },
    {
      "cell_type": "code",
      "source": [
        "#Membuat input sesuai dengan tipe data\n",
        "integer = int(input('Masukan nilai : '))\n",
        "floating = float(input('Masukan nilai : '))\n",
        "string = str(input('Masukan kata : '))\n",
        "boolean = bool(input('Masukan nilai : '))\n",
        "kompleks = complex(input('Masukan nilai: '))"
      ],
      "metadata": {
        "id": "33WgjzRFFa7E",
        "colab": {
          "base_uri": "https://localhost:8080/"
        },
        "outputId": "4b27c1ab-7f00-4931-b0fd-b13a496b2c2f"
      },
      "execution_count": null,
      "outputs": [
        {
          "name": "stdout",
          "output_type": "stream",
          "text": [
            "Masukan nilai : 14\n",
            "Masukan nilai : 14\n",
            "Masukan kata : 14\n",
            "Masukan nilai : 14\n",
            "Masukan nilai: 14\n"
          ]
        }
      ]
    },
    {
      "cell_type": "markdown",
      "source": [
        "Meskipun nilai yang kita masukan sama yaitu angka 14, akan tetapi output nya akan berbeda karna menyesuaikan dengan tipe data yang kita gunakan. Berikut output yang dihasilkan:"
      ],
      "metadata": {
        "id": "t3vVDa1HgZHn"
      }
    },
    {
      "cell_type": "code",
      "source": [
        "#Menampilkan nilai\n",
        "print(integer)\n",
        "print(floating)\n",
        "print(string)\n",
        "print(boolean)\n",
        "print(kompleks)"
      ],
      "metadata": {
        "colab": {
          "base_uri": "https://localhost:8080/"
        },
        "id": "aX3uiVQIfSz0",
        "outputId": "de2f4811-6cc4-493f-9c02-c4cafb5ba411"
      },
      "execution_count": null,
      "outputs": [
        {
          "output_type": "stream",
          "name": "stdout",
          "text": [
            "14\n",
            "14.0\n",
            "14\n",
            "True\n",
            "(14+0j)\n"
          ]
        }
      ]
    },
    {
      "cell_type": "markdown",
      "source": [
        "Membuat input data diri"
      ],
      "metadata": {
        "id": "3yV7G8CBf_KA"
      }
    },
    {
      "cell_type": "code",
      "source": [
        "nama = input('Masukan Nama: ')\n",
        "umur = input('Masukan Umur: ')\n",
        "alamat = input('Masukan Alamat: ')"
      ],
      "metadata": {
        "id": "RDkQoTnrHmnD",
        "colab": {
          "base_uri": "https://localhost:8080/"
        },
        "outputId": "9db51e62-52e2-44f9-e261-96901594fab8"
      },
      "execution_count": null,
      "outputs": [
        {
          "name": "stdout",
          "output_type": "stream",
          "text": [
            "Masukan Nama: Hasan Asy Arie\n",
            "Masukan Umur: 23\n",
            "Masukan Alamat: Yogyakarta\n"
          ]
        }
      ]
    },
    {
      "cell_type": "markdown",
      "source": [
        "###**Memahami Output**"
      ],
      "metadata": {
        "id": "me1L-7RTHT77"
      }
    },
    {
      "cell_type": "markdown",
      "source": [
        "Untuk menampilkan output dapat menggunakan fungsi print(). sebagai contoh misal kita memiliki sebuah variabel yang berisikan nilai bertipe integer dan kemudian akan ditampilkan outputnya sebagai berikut."
      ],
      "metadata": {
        "id": "PAW-WXZDhCEl"
      }
    },
    {
      "cell_type": "code",
      "source": [
        "nilai = 10\n",
        "print(nilai)"
      ],
      "metadata": {
        "colab": {
          "base_uri": "https://localhost:8080/"
        },
        "id": "qoSgjXsvhod4",
        "outputId": "ad829241-9266-42a3-9b8e-e63b54296e6e"
      },
      "execution_count": null,
      "outputs": [
        {
          "output_type": "stream",
          "name": "stdout",
          "text": [
            "10\n"
          ]
        }
      ]
    },
    {
      "cell_type": "markdown",
      "source": [
        "Kita juga dapat menampilkan output dari beberapa variabel. Ada beberapa cara dalam menampilkan output dari beberapa variabel yang akan dicontohkan menggunakan variabel input data diri diatas."
      ],
      "metadata": {
        "id": "sPy0Ja7ahwWJ"
      }
    },
    {
      "cell_type": "markdown",
      "source": [
        "**Menampilkan output dengan tanda plus '+'**"
      ],
      "metadata": {
        "id": "io5O8EmmicUX"
      }
    },
    {
      "cell_type": "code",
      "source": [
        "print(nama + umur + alamat)\n",
        "\n",
        "#Menampilkan output dengan rapih menggunakan text\n",
        "print('nama saya'+' '+nama+' '+'saat ini saya memasuki umur ke'+' '+umur+' '+'dan saya asli orang'+' '+alamat)"
      ],
      "metadata": {
        "id": "5pcGvplxHiDs",
        "colab": {
          "base_uri": "https://localhost:8080/"
        },
        "outputId": "987e1e61-dd44-4f9e-8b61-e5af9d9d927e"
      },
      "execution_count": null,
      "outputs": [
        {
          "output_type": "stream",
          "name": "stdout",
          "text": [
            "Hasan Asy Arie23Yogyakarta\n",
            "nama saya Hasan Asy Arie saat ini saya memasuki umur ke 23 dan saya asli orang Yogyakarta\n"
          ]
        }
      ]
    },
    {
      "cell_type": "markdown",
      "source": [
        "**Menampilkan output dengan koma ','**"
      ],
      "metadata": {
        "id": "1N_Y5bIoi5T0"
      }
    },
    {
      "cell_type": "code",
      "source": [
        "print(nama, umur, alamat)\n",
        "\n",
        "#Menampilkan output dengan rapih menggunakan text\n",
        "print('Nama saya', nama, 'saat ini saya berumur', umur, 'dan saya dari', alamat)"
      ],
      "metadata": {
        "id": "oE9NbD0-JCI0",
        "colab": {
          "base_uri": "https://localhost:8080/"
        },
        "outputId": "34640c25-1953-4cb0-e0db-3351d379f751"
      },
      "execution_count": null,
      "outputs": [
        {
          "output_type": "stream",
          "name": "stdout",
          "text": [
            "Hasan Asy Arie 23 Yogyakarta\n",
            "Nama saya Hasan Asy Arie saat ini saya berumur 23 dan saya dari Yogyakarta\n"
          ]
        }
      ]
    },
    {
      "cell_type": "markdown",
      "source": [
        "**Menampilkan output dengan fungsi format()**"
      ],
      "metadata": {
        "id": "O3HcQX1gjOxc"
      }
    },
    {
      "cell_type": "code",
      "source": [
        "print('{}{}{}'.format(nama, umur, alamat))\n",
        "\n",
        "#Menampilkan output dengan rapih menggunakan text\n",
        "print('Nama saya {} saat ini saya berumur {} dan saya dari {}'.format(nama, umur, alamat))"
      ],
      "metadata": {
        "id": "WD6T8FDHfFqT",
        "colab": {
          "base_uri": "https://localhost:8080/"
        },
        "outputId": "c079b23b-b9f0-4748-dbbd-31c42ef7b837"
      },
      "execution_count": null,
      "outputs": [
        {
          "output_type": "stream",
          "name": "stdout",
          "text": [
            "Hasan Asy Arie23Yogyakarta\n",
            "Nama saya Hasan Asy Arie saat ini saya berumur 23 dan saya dari Yogyakarta\n"
          ]
        }
      ]
    },
    {
      "cell_type": "markdown",
      "source": [
        "**Menampilkan output dengan operator \"%\"**"
      ],
      "metadata": {
        "id": "SicxV4ibjbhn"
      }
    },
    {
      "cell_type": "code",
      "source": [
        "print('%s %s %s' %(nama,umur,alamat))\n",
        "\n",
        "# %s - untuk tipe string\n",
        "# %d - untuk tipe integer\n",
        "# %f - untuk tipe float\n",
        "# %x atau %X - untuk integer hexa\n",
        "\n",
        "#Menampilkan output dengan rapih menggunakan text\n",
        "print('Nama saya %s saat ini saya berumur %s dan saya dari %s'%(nama, umur, alamat))"
      ],
      "metadata": {
        "id": "TyEjwZwmigX8",
        "colab": {
          "base_uri": "https://localhost:8080/"
        },
        "outputId": "935397f4-b861-45c4-8f9f-2bba8a602a4e"
      },
      "execution_count": null,
      "outputs": [
        {
          "output_type": "stream",
          "name": "stdout",
          "text": [
            "Hasan Asy Arie 23 Yogyakarta\n",
            "Nama saya Hasan Asy Arie saat ini saya berumur 23 dan saya dari Yogyakarta\n"
          ]
        }
      ]
    }
  ]
}