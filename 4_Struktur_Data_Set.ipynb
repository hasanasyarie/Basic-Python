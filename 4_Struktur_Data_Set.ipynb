{
  "nbformat": 4,
  "nbformat_minor": 0,
  "metadata": {
    "colab": {
      "provenance": [],
      "toc_visible": true,
      "authorship_tag": "ABX9TyPqQsfgIVY5WAQUm5AppZgP"
    },
    "kernelspec": {
      "name": "python3",
      "display_name": "Python 3"
    },
    "language_info": {
      "name": "python"
    }
  },
  "cells": [
    {
      "cell_type": "markdown",
      "source": [
        "##**Struktur Data Set**"
      ],
      "metadata": {
        "id": "AMTI3d-dVJQ3"
      }
    },
    {
      "cell_type": "markdown",
      "source": [
        "Set adalah tipe data yang berisi kumpulan data yang unik, set biasanya ditulis menggunakan kurung kurawal {} dan setiap elemennya dipisahkan oleh koma. Set bersifat unordered yang artinya tidak bisa diakses dengan index. Pada set kita dapat melakukan gabungan, irisan, komplemen, maupun teori himpunan lainnya."
      ],
      "metadata": {
        "id": "cEJvvYs-KvM5"
      }
    },
    {
      "cell_type": "markdown",
      "source": [
        "Contoh tipe data set:"
      ],
      "metadata": {
        "id": "NdDCeqe2aU3o"
      }
    },
    {
      "cell_type": "code",
      "source": [
        "set_int = {2, 5, 7, 3, 8}\n",
        "print(set_int)"
      ],
      "metadata": {
        "id": "DgBgOH0MYcum",
        "colab": {
          "base_uri": "https://localhost:8080/"
        },
        "outputId": "77d8af48-dc51-4d7b-ef56-ad0c3d05cfd5"
      },
      "execution_count": null,
      "outputs": [
        {
          "output_type": "stream",
          "name": "stdout",
          "text": [
            "{2, 3, 5, 7, 8}\n"
          ]
        }
      ]
    },
    {
      "cell_type": "code",
      "source": [
        "set_buah = {'Jeruk', 'Nanas', 'Anggur'}\n",
        "print(set_buah)"
      ],
      "metadata": {
        "colab": {
          "base_uri": "https://localhost:8080/"
        },
        "id": "0KAsFBdgZ3qy",
        "outputId": "0e29ad1c-ddd7-4624-906d-0ba3626db9d8"
      },
      "execution_count": null,
      "outputs": [
        {
          "output_type": "stream",
          "name": "stdout",
          "text": [
            "{'Anggur', 'Nanas', 'Jeruk'}\n"
          ]
        }
      ]
    },
    {
      "cell_type": "code",
      "source": [
        "set_huruf = {'x', 'y', 'z'}\n",
        "print(set_huruf)"
      ],
      "metadata": {
        "colab": {
          "base_uri": "https://localhost:8080/"
        },
        "id": "RqAwdGH2aevG",
        "outputId": "d504db33-f8d0-4c30-aec3-092a32798bae"
      },
      "execution_count": null,
      "outputs": [
        {
          "output_type": "stream",
          "name": "stdout",
          "text": [
            "{'x', 'z', 'y'}\n"
          ]
        }
      ]
    },
    {
      "cell_type": "markdown",
      "source": [
        "###**Bersifat Unik**"
      ],
      "metadata": {
        "id": "W0MkRfhRdaJb"
      }
    },
    {
      "cell_type": "markdown",
      "source": [
        "Pada tipe data set setiap datanya bersifat unik yang artinya tidak bisa menerima nilai duplikat. Jika kita memasukan dua atau lebih nilai yang sama pada set, maka nilai yang dimunculkan hanya satu saja."
      ],
      "metadata": {
        "id": "aM3VXSvQZLpE"
      }
    },
    {
      "cell_type": "markdown",
      "source": [
        "Pada contoh berikut diberikan elemen nilai 1, 4, dan 2 yang masing-masing angka dimasukan sebanyak 2 kali. Maka secara otomatis set akan menghilangkan nilai duplikat tersebut."
      ],
      "metadata": {
        "id": "Nv-ujzhpepYe"
      }
    },
    {
      "cell_type": "code",
      "source": [
        "# Secara otomatis menghilangkan nilai duplikat\n",
        "set_angka = {1, 1, 4, 4, 2, 2, 2}\n",
        "print(set_angka)"
      ],
      "metadata": {
        "id": "PQcRbFFJLFk8",
        "colab": {
          "base_uri": "https://localhost:8080/"
        },
        "outputId": "542fb408-359d-4411-fabc-d59ed2668084"
      },
      "execution_count": null,
      "outputs": [
        {
          "output_type": "stream",
          "name": "stdout",
          "text": [
            "{1, 2, 4}\n"
          ]
        }
      ]
    },
    {
      "cell_type": "markdown",
      "source": [
        "Contoh lainnya"
      ],
      "metadata": {
        "id": "I3Fta3zkgeNu"
      }
    },
    {
      "cell_type": "code",
      "source": [
        "set_hewan = {'Ayam', 'Kambing', 'Ayam', 'Sapi'}\n",
        "print(set_hewan)"
      ],
      "metadata": {
        "colab": {
          "base_uri": "https://localhost:8080/"
        },
        "id": "T7Xy3Z07gBjb",
        "outputId": "fd55d177-0687-48b9-dc5c-1ce87418957b"
      },
      "execution_count": null,
      "outputs": [
        {
          "output_type": "stream",
          "name": "stdout",
          "text": [
            "{'Kambing', 'Ayam', 'Sapi'}\n"
          ]
        }
      ]
    },
    {
      "cell_type": "markdown",
      "source": [
        "###**Bersifat Unordered**"
      ],
      "metadata": {
        "id": "QCt3Ittca5qr"
      }
    },
    {
      "cell_type": "markdown",
      "source": [
        "Tipe data set bersifat unordered alias tidak berurut. Maka dari itu tipe data set tidak mendukung proses slicing yang artinya setiap elemen yang ada didalam set itu tidak bisa kita akses menggunakan indeks."
      ],
      "metadata": {
        "id": "p9pQiQ-ja96k"
      }
    },
    {
      "cell_type": "code",
      "source": [
        "# Hasilnya pasti error\n",
        "set1 = {1, 2, 3, 4, 5}\n",
        "print(set1[1])"
      ],
      "metadata": {
        "colab": {
          "base_uri": "https://localhost:8080/",
          "height": 200
        },
        "id": "CJqLwoQCcA_u",
        "outputId": "41061b4b-c3d2-49ad-8931-f93b72bd0868"
      },
      "execution_count": null,
      "outputs": [
        {
          "output_type": "error",
          "ename": "TypeError",
          "evalue": "ignored",
          "traceback": [
            "\u001b[0;31m---------------------------------------------------------------------------\u001b[0m",
            "\u001b[0;31mTypeError\u001b[0m                                 Traceback (most recent call last)",
            "\u001b[0;32m<ipython-input-4-249aa91ebb31>\u001b[0m in \u001b[0;36m<module>\u001b[0;34m\u001b[0m\n\u001b[1;32m      1\u001b[0m \u001b[0;31m# Hasilnya pasti error\u001b[0m\u001b[0;34m\u001b[0m\u001b[0;34m\u001b[0m\u001b[0;34m\u001b[0m\u001b[0m\n\u001b[1;32m      2\u001b[0m \u001b[0mset1\u001b[0m \u001b[0;34m=\u001b[0m \u001b[0;34m{\u001b[0m\u001b[0;36m1\u001b[0m\u001b[0;34m,\u001b[0m \u001b[0;36m2\u001b[0m\u001b[0;34m,\u001b[0m \u001b[0;36m3\u001b[0m\u001b[0;34m,\u001b[0m \u001b[0;36m4\u001b[0m\u001b[0;34m,\u001b[0m \u001b[0;36m5\u001b[0m\u001b[0;34m}\u001b[0m\u001b[0;34m\u001b[0m\u001b[0;34m\u001b[0m\u001b[0m\n\u001b[0;32m----> 3\u001b[0;31m \u001b[0mprint\u001b[0m\u001b[0;34m(\u001b[0m\u001b[0mset1\u001b[0m\u001b[0;34m[\u001b[0m\u001b[0;36m1\u001b[0m\u001b[0;34m]\u001b[0m\u001b[0;34m)\u001b[0m\u001b[0;34m\u001b[0m\u001b[0;34m\u001b[0m\u001b[0m\n\u001b[0m",
            "\u001b[0;31mTypeError\u001b[0m: 'set' object is not subscriptable"
          ]
        }
      ]
    },
    {
      "cell_type": "markdown",
      "source": [
        "###**Set Tidak Dapat Dirubah**"
      ],
      "metadata": {
        "id": "4L46b70diKoM"
      }
    },
    {
      "cell_type": "markdown",
      "source": [
        "Tipe data set bersifat unchangable yang berarti setiap nilai yang telah dimasukan ke dalam set tidak dapat dirubah lagi. Walaupun demikian, kita tetap dapat menambah dan menghapus elemen dalam set dengan menggunkan fungsi-fungsi yang tersedia pada set."
      ],
      "metadata": {
        "id": "fdyES2pmiSla"
      }
    },
    {
      "cell_type": "markdown",
      "source": [
        "####**Menambahkan elemen**"
      ],
      "metadata": {
        "id": "0tMT5Xn7c0wZ"
      }
    },
    {
      "cell_type": "markdown",
      "source": [
        "Kita dapat menambahkan elemen baru dengan menggunakan fungsi add() dan fungsi update()."
      ],
      "metadata": {
        "id": "fobWuS1qQqHK"
      }
    },
    {
      "cell_type": "markdown",
      "source": [
        "**Fungsi add()** <br>\n",
        "\n",
        "Fungsi add() digunakan untuk menambahkan satu elemen saja pada set."
      ],
      "metadata": {
        "id": "Bfi9iTUnQ_eG"
      }
    },
    {
      "cell_type": "code",
      "source": [
        "set_float = {1.5, 2.3, 0.1}\n",
        "print(set_float)\n",
        "\n",
        "# Menambahkan nilai 3.5 pada set\n",
        "set_float.add(3.5)\n",
        "print(set_float)"
      ],
      "metadata": {
        "id": "tHuAdPhEcclZ",
        "colab": {
          "base_uri": "https://localhost:8080/"
        },
        "outputId": "ad507698-1949-456e-be78-2cb27db697fd"
      },
      "execution_count": null,
      "outputs": [
        {
          "output_type": "stream",
          "name": "stdout",
          "text": [
            "{0.1, 1.5, 2.3}\n",
            "{0.1, 1.5, 2.3, 3.5}\n"
          ]
        }
      ]
    },
    {
      "cell_type": "markdown",
      "source": [
        "**Fungsi update()** <br>\n",
        "\n",
        "Berbeda dengan fungsi add(), pada fungsi update() kita dapat menambahkan beberapa elemen sekaligus pada set."
      ],
      "metadata": {
        "id": "HD8xIr1HRDYr"
      }
    },
    {
      "cell_type": "code",
      "source": [
        "set_abjad = {'a', 'b', 'c'}\n",
        "print(set_abjad)\n",
        "\n",
        "# Menambahkan huruf 'd' ke dalam set\n",
        "set_abjad.update('d')\n",
        "print(set_abjad)\n",
        "\n",
        "# Menambahkan lebih dari satu elemen\n",
        "set_abjad.update('e', 'f')\n",
        "print(set_abjad)"
      ],
      "metadata": {
        "id": "bTkw-h_rgNmT",
        "colab": {
          "base_uri": "https://localhost:8080/"
        },
        "outputId": "ea3c0662-6773-46cf-b5a3-72072c72478b"
      },
      "execution_count": null,
      "outputs": [
        {
          "output_type": "stream",
          "name": "stdout",
          "text": [
            "{'b', 'c', 'a'}\n",
            "{'d', 'b', 'c', 'a'}\n",
            "{'d', 'b', 'e', 'f', 'c', 'a'}\n"
          ]
        }
      ]
    },
    {
      "cell_type": "markdown",
      "source": [
        "####**Menghapus elemen**"
      ],
      "metadata": {
        "id": "Z3Axo5nShYWQ"
      }
    },
    {
      "cell_type": "markdown",
      "source": [
        "Terdapat 4 fungsi untuk menghapus elemen pada set, diantaranya yaitu remove(), discard(), pop(), dan clear()."
      ],
      "metadata": {
        "id": "IiXozEW0YSRp"
      }
    },
    {
      "cell_type": "markdown",
      "source": [
        "**Fungsi remove()** <br>\n",
        "\n",
        "Fungsi remove() digunakan untuk menghapus elemen yang berada pada set dan elemen yang dihapus harus berada dalam set, jika elemen yang dihapus tidak ada dalam set maka hasilnya akan eror."
      ],
      "metadata": {
        "id": "2N4yVACjT9nQ"
      }
    },
    {
      "cell_type": "code",
      "source": [
        "set_kota = {'Jakarta', 'Bandung', 'Bogor'}\n",
        "print(set_kota)\n",
        "\n",
        "# Hapus kota bogor\n",
        "set_kota.remove('Bogor')\n",
        "print(set_kota)"
      ],
      "metadata": {
        "id": "HkJEgXMccjAl",
        "colab": {
          "base_uri": "https://localhost:8080/"
        },
        "outputId": "24b3cdb8-49ac-4170-9d07-0b0cf7e75834"
      },
      "execution_count": null,
      "outputs": [
        {
          "output_type": "stream",
          "name": "stdout",
          "text": [
            "{'Jakarta', 'Bogor', 'Bandung'}\n",
            "{'Jakarta', 'Bandung'}\n"
          ]
        }
      ]
    },
    {
      "cell_type": "code",
      "source": [
        "# Pasti eror, karena kota yang dihapus tidak ada pada set\n",
        "set_kota.remove('Yogyakarta')\n",
        "print(set_kota)"
      ],
      "metadata": {
        "id": "Jo-PM9b7hn6M",
        "colab": {
          "base_uri": "https://localhost:8080/",
          "height": 200
        },
        "outputId": "ec0e3445-f05c-4f24-a9f4-63ac06d6f822"
      },
      "execution_count": null,
      "outputs": [
        {
          "output_type": "error",
          "ename": "KeyError",
          "evalue": "ignored",
          "traceback": [
            "\u001b[0;31m---------------------------------------------------------------------------\u001b[0m",
            "\u001b[0;31mKeyError\u001b[0m                                  Traceback (most recent call last)",
            "\u001b[0;32m<ipython-input-17-e0b6df76201f>\u001b[0m in \u001b[0;36m<module>\u001b[0;34m\u001b[0m\n\u001b[1;32m      1\u001b[0m \u001b[0;31m# Pasti eror, karena kota yang dihapus tidak ada pada set\u001b[0m\u001b[0;34m\u001b[0m\u001b[0;34m\u001b[0m\u001b[0;34m\u001b[0m\u001b[0m\n\u001b[0;32m----> 2\u001b[0;31m \u001b[0mset_kota\u001b[0m\u001b[0;34m.\u001b[0m\u001b[0mremove\u001b[0m\u001b[0;34m(\u001b[0m\u001b[0;34m'Yogyakarta'\u001b[0m\u001b[0;34m)\u001b[0m\u001b[0;34m\u001b[0m\u001b[0;34m\u001b[0m\u001b[0m\n\u001b[0m\u001b[1;32m      3\u001b[0m \u001b[0mprint\u001b[0m\u001b[0;34m(\u001b[0m\u001b[0mset_kota\u001b[0m\u001b[0;34m)\u001b[0m\u001b[0;34m\u001b[0m\u001b[0;34m\u001b[0m\u001b[0m\n",
            "\u001b[0;31mKeyError\u001b[0m: 'Yogyakarta'"
          ]
        }
      ]
    },
    {
      "cell_type": "markdown",
      "source": [
        "**Fungsi discard()** <br>\n",
        "\n",
        "Fungsi discard() sama seperti fungsi remove() yang digunakan untuk menghapus elemen pada set, beda nya pada fungsi discard() tidak akan menghasilkan eror jika elemen yang dihapus tidak berada dalam set."
      ],
      "metadata": {
        "id": "8eXFZzCVUCJu"
      }
    },
    {
      "cell_type": "code",
      "source": [
        "set_makanan = {'Bakso', 'Mie', 'Soto'}\n",
        "print(set_makanan)\n",
        "\n",
        "# Hapus makanan Mie\n",
        "set_makanan.discard('Mie')\n",
        "print(set_makanan)"
      ],
      "metadata": {
        "id": "amtw8A4phbSv",
        "colab": {
          "base_uri": "https://localhost:8080/"
        },
        "outputId": "b406a10b-7b2c-4fd1-a0b4-b19033e967f2"
      },
      "execution_count": null,
      "outputs": [
        {
          "output_type": "stream",
          "name": "stdout",
          "text": [
            "{'Bakso', 'Mie', 'Soto'}\n",
            "{'Bakso', 'Soto'}\n"
          ]
        }
      ]
    },
    {
      "cell_type": "code",
      "source": [
        "# Tidak akan error jika elemen yang dihapus tidak berada pada set\n",
        "set_makanan.discard('Bubur')\n",
        "print(set_makanan)"
      ],
      "metadata": {
        "colab": {
          "base_uri": "https://localhost:8080/"
        },
        "id": "jzIy7JxXaHhT",
        "outputId": "7fe6c6e0-ec0d-4bc3-9cc9-3edc619aaaac"
      },
      "execution_count": null,
      "outputs": [
        {
          "output_type": "stream",
          "name": "stdout",
          "text": [
            "{'Bakso', 'Soto'}\n"
          ]
        }
      ]
    },
    {
      "cell_type": "markdown",
      "source": [
        "**Fungsi pop()** <br>\n",
        "\n",
        "Fungsi pop() berfungsi untuk menghapus elemen paling depan atau kiri."
      ],
      "metadata": {
        "id": "lx-DUfi3UH2n"
      }
    },
    {
      "cell_type": "code",
      "source": [
        "set_minuman = {'Es Teh', 'Es Jeruk', 'Air Putih'}\n",
        "print(set_minuman)\n",
        "\n",
        "set_minuman.pop()\n",
        "print(set_minuman)"
      ],
      "metadata": {
        "colab": {
          "base_uri": "https://localhost:8080/"
        },
        "id": "6bGV7sFZVkpf",
        "outputId": "74af71df-eb21-472a-e773-b7395bd7f44d"
      },
      "execution_count": null,
      "outputs": [
        {
          "output_type": "stream",
          "name": "stdout",
          "text": [
            "{'Es Jeruk', 'Es Teh', 'Air Putih'}\n",
            "{'Es Teh', 'Air Putih'}\n"
          ]
        }
      ]
    },
    {
      "cell_type": "markdown",
      "source": [
        "**Fungsi clear()** <br>\n",
        "\n",
        "Fungsi clear() berfungsi untuk menghapus keseluruhan elemen pada set."
      ],
      "metadata": {
        "id": "-ArAhnyPUKrg"
      }
    },
    {
      "cell_type": "code",
      "source": [
        "# Menghapus variabel set_minuman di atas\n",
        "set_minuman.clear()\n",
        "print(set_minuman)"
      ],
      "metadata": {
        "colab": {
          "base_uri": "https://localhost:8080/"
        },
        "id": "xxedPJh-Vl15",
        "outputId": "cc06b18f-7668-4c5f-f144-4f9d8ba83778"
      },
      "execution_count": null,
      "outputs": [
        {
          "output_type": "stream",
          "name": "stdout",
          "text": [
            "set()\n"
          ]
        }
      ]
    },
    {
      "cell_type": "markdown",
      "source": [
        "###**Operasi himpunan**"
      ],
      "metadata": {
        "id": "hf0gGiWviojQ"
      }
    },
    {
      "cell_type": "code",
      "source": [
        "him1 = {1, 3, 5, 7}\n",
        "him2 = {1, 2, 3, 4, 5}\n",
        "print(him1)\n",
        "print(him2)"
      ],
      "metadata": {
        "id": "qJ73XemvisZ6"
      },
      "execution_count": null,
      "outputs": []
    },
    {
      "cell_type": "markdown",
      "source": [
        "####**Gabungan**"
      ],
      "metadata": {
        "id": "4SCfobR3kWSG"
      }
    },
    {
      "cell_type": "code",
      "source": [
        "#menggunakan palang |\n",
        "print(him1 | him2)\n",
        "\n",
        "#menggunakan union()\n",
        "Union = him1.union(him2)\n",
        "print(Union)"
      ],
      "metadata": {
        "id": "C4N_pVM3jY5G"
      },
      "execution_count": null,
      "outputs": []
    },
    {
      "cell_type": "code",
      "source": [
        "print(him1.union(him2))"
      ],
      "metadata": {
        "id": "20_Gh8DjVmDc"
      },
      "execution_count": null,
      "outputs": []
    },
    {
      "cell_type": "markdown",
      "source": [
        "####**Irisan**"
      ],
      "metadata": {
        "id": "3tnc65vXj8LY"
      }
    },
    {
      "cell_type": "code",
      "source": [
        "#menggunakan tanda dan (&)\n",
        "print(him1 & him2)\n",
        "\n",
        "#menggunakan intersection()\n",
        "irisan = him1.intersection(him2)\n",
        "print(irisan)"
      ],
      "metadata": {
        "id": "HLUX7UJBj90V"
      },
      "execution_count": null,
      "outputs": []
    },
    {
      "cell_type": "markdown",
      "source": [
        "####**Selisih**"
      ],
      "metadata": {
        "id": "rEJJhjeykxkO"
      }
    },
    {
      "cell_type": "code",
      "source": [
        "#menggunakan tanda minus (-)\n",
        "print(him1 - him2)\n",
        "\n",
        "#menggunakan difference()\n",
        "selisih = him1.difference(him2)\n",
        "print(selisih)"
      ],
      "metadata": {
        "id": "WDSKMs37kzrK"
      },
      "execution_count": null,
      "outputs": []
    },
    {
      "cell_type": "code",
      "source": [
        "#sebaliknya\n",
        "#menggunakan (-)\n",
        "print(him2 - him1)\n",
        "\n",
        "#menggunakan difference()\n",
        "selisih1 = him2.difference(him1)\n",
        "print(selisih1)"
      ],
      "metadata": {
        "id": "rQEfMnOQlsOo"
      },
      "execution_count": null,
      "outputs": []
    },
    {
      "cell_type": "markdown",
      "source": [
        "####**Komplemen**"
      ],
      "metadata": {
        "id": "PBTl6PWUmGVk"
      }
    },
    {
      "cell_type": "code",
      "source": [
        "#menggunakan tanda (^)\n",
        "print(him1^him2)\n",
        "\n",
        "#menggunakan symmetric_difference()\n",
        "komplemen = him1.symmetric_difference(him2)\n",
        "print(komplemen)"
      ],
      "metadata": {
        "id": "8SVbL_wFmIng"
      },
      "execution_count": null,
      "outputs": []
    },
    {
      "cell_type": "code",
      "source": [
        "lis1 = [1, 2, 3]\n",
        "lis2 = [2, 3, 4]"
      ],
      "metadata": {
        "id": "lBAJ7P3g6asG"
      },
      "execution_count": null,
      "outputs": []
    }
  ]
}